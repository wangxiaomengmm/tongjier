{
 "cells": [
  {
   "cell_type": "code",
   "execution_count": 5,
   "metadata": {},
   "outputs": [
    {
     "ename": "SyntaxError",
     "evalue": "invalid syntax (<ipython-input-5-f9a9fbac00dc>, line 2)",
     "output_type": "error",
     "traceback": [
      "\u001b[1;36m  File \u001b[1;32m\"<ipython-input-5-f9a9fbac00dc>\"\u001b[1;36m, line \u001b[1;32m2\u001b[0m\n\u001b[1;33m    feom lxml import etree\u001b[0m\n\u001b[1;37m            ^\u001b[0m\n\u001b[1;31mSyntaxError\u001b[0m\u001b[1;31m:\u001b[0m invalid syntax\n"
     ]
    }
   ],
   "source": [
    "import requests\n",
    "feom lxml import etree\n",
    "file='C:/Users/lenovo/Desktop/text.jpg','wb''\n",
    "response = requests.get('http://op.hanhande.com/shtml/op_wz/list_2602_1.shtml')\n",
    "tree = etree.HTML(re.jpg)\n",
    "a=tree.xpath('//*[@id=\"main\"]/div[1]/div[2]')\n",
    "for i in a:\n",
    "    \n",
    "with open('C:/Users/lenovo/Desktop/text.jpg','wb') as f:\n",
    "    f.write(response.content)"
   ]
  },
  {
   "cell_type": "code",
   "execution_count": null,
   "metadata": {},
   "outputs": [],
   "source": [
    "import requests\n",
    "from lxml import etree\n",
    "url = 'http://op.hanhande.com/shtml/meitu.shtml'\n",
    "response = requests.get(url)\n",
    "tree = etree.HTML(response.text)\n",
    "result_ul = tree.xpath('//div[@class=\"content mt10\"]/div[@class=\"show listbox cc\"]/ul')\n",
    "image_url = result_ul[0].xpath('./li/a/img/@src')\n",
    "for i in image_url:\n",
    "    image_name = url.split('/')[-1]\n",
    "    content = requests.get(url).content\n",
    "    with open('C:\\\\Users\\\\Administrator\\\\Desktop\\\\图片\\\\test','wb') as f:\n",
    "        print(content)"
   ]
  },
  {
   "cell_type": "code",
   "execution_count": null,
   "metadata": {},
   "outputs": [],
   "source": []
  }
 ],
 "metadata": {
  "kernelspec": {
   "display_name": "Python 3",
   "language": "python",
   "name": "python3"
  },
  "language_info": {
   "codemirror_mode": {
    "name": "ipython",
    "version": 3
   },
   "file_extension": ".py",
   "mimetype": "text/x-python",
   "name": "python",
   "nbconvert_exporter": "python",
   "pygments_lexer": "ipython3",
   "version": "3.6.4"
  }
 },
 "nbformat": 4,
 "nbformat_minor": 2
}
